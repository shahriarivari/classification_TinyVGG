{
 "cells": [
  {
   "cell_type": "code",
   "execution_count": null,
   "metadata": {},
   "outputs": [],
   "source": []
  }
 ],
 "metadata": {
  "kernelspec": {
   "display_name": "Python 3",
   "language": "python",
   "name": "python3"
  },
  "language_info": {
   "name": "python",
   "version": "3.10.8"
  },
  "orig_nbformat": 4,
  "vscode": {
   "interpreter": {
    "hash": "00ad16d4b4e30fb48512717b2ff4eac5bef3f517f0479c7a0c392c838560ecbe"
   }
  }
 },
 "nbformat": 4,
 "nbformat_minor": 2
}
