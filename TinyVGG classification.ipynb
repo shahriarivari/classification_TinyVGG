{
 "cells": [
  {
   "cell_type": "code",
   "execution_count": 3,
   "metadata": {},
   "outputs": [
    {
     "data": {
      "text/plain": [
       "'1.13.1+cu116'"
      ]
     },
     "execution_count": 3,
     "metadata": {},
     "output_type": "execute_result"
    }
   ],
   "source": [
    "import torch\n",
    "from torch import nn\n",
    "torch.__version__"
   ]
  },
  {
   "attachments": {},
   "cell_type": "markdown",
   "metadata": {},
   "source": [
    "Setting device to cuda if available"
   ]
  },
  {
   "cell_type": "code",
   "execution_count": 4,
   "metadata": {},
   "outputs": [
    {
     "data": {
      "text/plain": [
       "'cuda'"
      ]
     },
     "execution_count": 4,
     "metadata": {},
     "output_type": "execute_result"
    }
   ],
   "source": [
    "device = \"cuda\" if torch.cuda.is_available() else \"cpu\"\n",
    "device"
   ]
  },
  {
   "attachments": {},
   "cell_type": "markdown",
   "metadata": {},
   "source": [
    "Getting data\n",
    "in our case, we have already downloaded the data in .zip format\n",
    "so in the snippet below we are going to extact it "
   ]
  },
  {
   "cell_type": "code",
   "execution_count": 13,
   "metadata": {},
   "outputs": [
    {
     "name": "stdout",
     "output_type": "stream",
     "text": [
      "unzipping the file..\n"
     ]
    }
   ],
   "source": [
    "import zipfile\n",
    "from pathlib import Path\n",
    "\n",
    "# Setup path to the data folder\n",
    "data_path = Path(\"data/\")\n",
    "image_path = data_path / \"cats_dogs\"\n",
    "\n",
    "# making the image folder and unzipping the dataset\n",
    "\n",
    "if image_path.is_dir():\n",
    "    print(f\"{image_path} directory exists.\")\n",
    "else:\n",
    "    image_path.mkdir(parents=True, exist_ok= True)\n",
    "    with zipfile.ZipFile(data_path / \"kagglecatsanddogs_3367a.zip\" , \"r\") as zip_ref :\n",
    "        print(\"unzipping the file..\")\n",
    "        zip_ref.extractall(image_path)"
   ]
  },
  {
   "attachments": {},
   "cell_type": "markdown",
   "metadata": {},
   "source": [
    "# Exploring the data \n",
    "now we are going to devide our images into to folders called, train and test\n",
    "in each contating to folders called cats and dogs"
   ]
  },
  {
   "cell_type": "code",
   "execution_count": 14,
   "metadata": {},
   "outputs": [],
   "source": [
    "import os\n",
    "def walk_through_dir(dir_path):\n",
    "    \"\"\"\n",
    "    Walks through dir_path returning its contents\n",
    "    Args : dir_path (str or pathlib.Path): target directory\n",
    "\n",
    "    Returns A print of: \n",
    "      number of subdiretories in dir_path\n",
    "      number of images (files) in each subdirectory\n",
    "      name of each subdirectory\n",
    "    \"\"\"\n",
    "    for dirpath, dirnames, filenames in os.walk(dir_path):\n",
    "        print(f\"There are {len(dirnames)} directories and {len(filenames)} images in '{dirpath}'.\")"
   ]
  },
  {
   "cell_type": "code",
   "execution_count": 15,
   "metadata": {},
   "outputs": [
    {
     "name": "stdout",
     "output_type": "stream",
     "text": [
      "There are 1 directories and 2 images in 'data\\cats_dogs'.\n",
      "There are 2 directories and 0 images in 'data\\cats_dogs\\PetImages'.\n",
      "There are 0 directories and 12501 images in 'data\\cats_dogs\\PetImages\\Cat'.\n",
      "There are 0 directories and 12501 images in 'data\\cats_dogs\\PetImages\\Dog'.\n"
     ]
    }
   ],
   "source": [
    "walk_through_dir(image_path)"
   ]
  },
  {
   "attachments": {},
   "cell_type": "markdown",
   "metadata": {},
   "source": [
    "# Creating train and test directories \n"
   ]
  },
  {
   "cell_type": "code",
   "execution_count": 21,
   "metadata": {},
   "outputs": [],
   "source": [
    "# makeing train and test directories including cats and dogs folders in each\n",
    "def creat_folders(dir_path,folder_name):\n",
    "    \"\"\"\n",
    "    Makes a new directory using the driectory path \n",
    "    Args : \n",
    "        dir_path (str or pathlib.Path): target directory\n",
    "        folder_name (str): name of the desired folder\n",
    "    \"\"\"\n",
    "    new_folder = os.path.join(dir_path, folder_name)\n",
    "    os.makedirs(new_folder)\n",
    "\n",
    "\n",
    "train_dir = image_path / \"train\"\n",
    "test_dir = image_path / \"test\"\n",
    "\n",
    "if train_dir.is_dir():\n",
    "    print(f\"{train_dir} directory exists.\")\n",
    "else:\n",
    "    data_dir = image_path\n",
    "    creat_folders(data_dir,\"train\")\n",
    "    \n",
    "if test_dir.is_dir():\n",
    "    print(f\"{test_dir} directory exists.\")\n",
    "else:\n",
    "    data_dir = image_path\n",
    "    creat_folders(data_dir,\"test\")\n",
    "\n",
    "categories = [\"cats\" , \"dogs\"]\n",
    "for item in categories:\n",
    "    creat_folders(train_dir , item)\n",
    "    creat_folders(test_dir , item)"
   ]
  },
  {
   "cell_type": "code",
   "execution_count": 38,
   "metadata": {},
   "outputs": [],
   "source": [
    "import os\n",
    "import random\n",
    "import shutil\n",
    "\n",
    "def move_files(source_dir, destination_dir, num_files , seed = 42):\n",
    "    \"\"\"\n",
    "    moves some random files from one directory to another, if num_files is set to -1,\n",
    "        moves all of the files from the source \n",
    "    Args : \n",
    "         source_dir : the path to the source directory\n",
    "         destination_dir : the path to the destination directory\n",
    "         num_files : the number of random files you want to move\n",
    "         seed : the seed number\n",
    "    \"\"\"\n",
    "    if num_files == -1 :\n",
    "        files = os.listdir(source_dir)\n",
    "        selected_files = files\n",
    "    else: \n",
    "        random.seed(seed)\n",
    "        # Get a list of all files in the source directory\n",
    "        files = os.listdir(source_dir)\n",
    "        # Randomly select 'num_files' files from the list\n",
    "        selected_files = random.sample(files, num_files)\n",
    "    \n",
    "    # Move the selected files to the destination directory\n",
    "    for file_name in selected_files:\n",
    "        source_path = os.path.join(source_dir, file_name)\n",
    "        destination_path = os.path.join(destination_dir, file_name)\n",
    "        shutil.move(source_path, destination_path)"
   ]
  },
  {
   "cell_type": "code",
   "execution_count": 29,
   "metadata": {},
   "outputs": [
    {
     "name": "stdout",
     "output_type": "stream",
     "text": [
      "There are 3 directories and 2 images in 'data\\cats_dogs'.\n",
      "There are 2 directories and 0 images in 'data\\cats_dogs\\PetImages'.\n",
      "There are 0 directories and 12501 images in 'data\\cats_dogs\\PetImages\\Cat'.\n",
      "There are 0 directories and 12501 images in 'data\\cats_dogs\\PetImages\\Dog'.\n",
      "There are 2 directories and 0 images in 'data\\cats_dogs\\test'.\n",
      "There are 0 directories and 0 images in 'data\\cats_dogs\\test\\cats'.\n",
      "There are 0 directories and 0 images in 'data\\cats_dogs\\test\\dogs'.\n",
      "There are 2 directories and 0 images in 'data\\cats_dogs\\train'.\n",
      "There are 0 directories and 0 images in 'data\\cats_dogs\\train\\cats'.\n",
      "There are 0 directories and 0 images in 'data\\cats_dogs\\train\\dogs'.\n"
     ]
    }
   ],
   "source": [
    "# using walk_through_dir to see where the images are \n",
    "walk_through_dir(image_path)"
   ]
  },
  {
   "cell_type": "code",
   "execution_count": 41,
   "metadata": {},
   "outputs": [],
   "source": [
    "# moveing images from source directory in to the train and test driectories\n",
    "## moving some randome images from source to test directory for both categories \n",
    "\n",
    "cat_images_source_directory =  image_path / \"Petimages\" / \"Cat\"\n",
    "dog_images_source_directory =  image_path / \"Petimages\" / \"Dog\"\n",
    "dog_test_destination_directory = test_dir / \"dogs\"\n",
    "cat_test_destination_directory = test_dir / \"cats\"\n",
    "cat_train_destination_directory = train_dir / \"cats\"\n",
    "dog_train_destination_directory = train_dir / \"dogs\"\n",
    "\n",
    "train_test_split = 0.2\n",
    "num_test_images = int(12501 * train_test_split)\n",
    "# cat images \n",
    "move_files(cat_images_source_directory, cat_test_destination_directory, num_files= num_test_images, seed= 42 )\n",
    "# dog images \n",
    "move_files(dog_images_source_directory, dog_test_destination_directory, num_files= num_test_images, seed= 42 )\n",
    "\n",
    "# now that we have the test images , we move the rest of the source images to the train folder\n",
    "\n",
    "# cat images \n",
    "move_files(cat_images_source_directory, cat_train_destination_directory, num_files= -1)\n",
    "# dog images \n",
    "move_files(dog_images_source_directory, dog_train_destination_directory, num_files= -1)"
   ]
  }
 ],
 "metadata": {
  "kernelspec": {
   "display_name": "Python 3",
   "language": "python",
   "name": "python3"
  },
  "language_info": {
   "codemirror_mode": {
    "name": "ipython",
    "version": 3
   },
   "file_extension": ".py",
   "mimetype": "text/x-python",
   "name": "python",
   "nbconvert_exporter": "python",
   "pygments_lexer": "ipython3",
   "version": "3.10.8"
  },
  "orig_nbformat": 4,
  "vscode": {
   "interpreter": {
    "hash": "00ad16d4b4e30fb48512717b2ff4eac5bef3f517f0479c7a0c392c838560ecbe"
   }
  }
 },
 "nbformat": 4,
 "nbformat_minor": 2
}
